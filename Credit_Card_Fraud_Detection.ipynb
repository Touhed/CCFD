{
  "nbformat": 4,
  "nbformat_minor": 0,
  "metadata": {
    "colab": {
      "name": "Credit_Card_Fraud_Detection.ipynb",
      "provenance": [],
      "collapsed_sections": [],
      "include_colab_link": true
    },
    "kernelspec": {
      "name": "python3",
      "display_name": "Python 3"
    }
  },
  "cells": [
    {
      "cell_type": "markdown",
      "metadata": {
        "id": "view-in-github",
        "colab_type": "text"
      },
      "source": [
        "<a href=\"https://colab.research.google.com/github/Touhed/CCFD/blob/main/Credit_Card_Fraud_Detection.ipynb\" target=\"_parent\"><img src=\"https://colab.research.google.com/assets/colab-badge.svg\" alt=\"Open In Colab\"/></a>"
      ]
    },
    {
      "cell_type": "markdown",
      "metadata": {
        "id": "yK05wuQCRtW8"
      },
      "source": [
        "#Importing the Packages#"
      ]
    },
    {
      "cell_type": "code",
      "metadata": {
        "id": "wXNsXsUlR0HY"
      },
      "source": [
        "# IMPORTING PACKAGES\r\n",
        "\r\n",
        "import pandas as pd # data processing\r\n",
        "import numpy as np # working with arrays\r\n",
        "import matplotlib.pyplot as plt # visualization\r\n",
        "from termcolor import colored as cl # text customization\r\n",
        "import itertools # advanced tools\r\n",
        "from sklearn.manifold import TSNE # T-Distributed Stochastic Neighbor Embedding\r\n",
        "import seaborn as sns\r\n",
        "from sklearn.preprocessing import StandardScaler # data normalization\r\n",
        "from sklearn.model_selection import train_test_split # data split\r\n",
        "from sklearn.tree import DecisionTreeClassifier # Decision tree algorithm\r\n",
        "from sklearn.linear_model import LogisticRegression # Logistic regression algorithm\r\n",
        "from sklearn.ensemble import RandomForestClassifier # Random forest tree algorithm\r\n",
        "from xgboost import XGBClassifier # XGBoost algorithm\r\n",
        "\r\n",
        "from sklearn.metrics import confusion_matrix # evaluation metric\r\n",
        "from sklearn.metrics import accuracy_score # evaluation metric\r\n",
        "from sklearn.metrics import f1_score # evaluation metric"
      ],
      "execution_count": null,
      "outputs": []
    },
    {
      "cell_type": "markdown",
      "metadata": {
        "id": "M-V8VY4sSEwx"
      },
      "source": [
        "#Importing Data#"
      ]
    },
    {
      "cell_type": "markdown",
      "metadata": {
        "id": "97gxm2anS61B"
      },
      "source": [
        "**Connecting Google Drive**"
      ]
    },
    {
      "cell_type": "code",
      "metadata": {
        "colab": {
          "base_uri": "https://localhost:8080/"
        },
        "id": "MsDrN2M3SltW",
        "outputId": "cc57c934-1175-45e7-e962-037483adf2a9"
      },
      "source": [
        "from google.colab import drive\r\n",
        "drive.mount('/content/drive')"
      ],
      "execution_count": null,
      "outputs": [
        {
          "output_type": "stream",
          "text": [
            "Mounted at /content/drive\n"
          ],
          "name": "stdout"
        }
      ]
    },
    {
      "cell_type": "code",
      "metadata": {
        "colab": {
          "base_uri": "https://localhost:8080/",
          "height": 224
        },
        "id": "OGxW1unJSGk8",
        "outputId": "9aaddaa1-4305-4e2e-c7e1-0df782a8276d"
      },
      "source": [
        "# IMPORTING DATA\r\n",
        "\r\n",
        "data = pd.read_csv('/content/drive/MyDrive/Thesis/CSV/creditcard.csv')\r\n",
        "data.drop('Time', axis = 1, inplace = True) # removing irrelevent columns/feature\r\n",
        "data.shape\r\n",
        "data.head(5)\r\n",
        "#print(data.head(5))"
      ],
      "execution_count": null,
      "outputs": [
        {
          "output_type": "execute_result",
          "data": {
            "text/html": [
              "<div>\n",
              "<style scoped>\n",
              "    .dataframe tbody tr th:only-of-type {\n",
              "        vertical-align: middle;\n",
              "    }\n",
              "\n",
              "    .dataframe tbody tr th {\n",
              "        vertical-align: top;\n",
              "    }\n",
              "\n",
              "    .dataframe thead th {\n",
              "        text-align: right;\n",
              "    }\n",
              "</style>\n",
              "<table border=\"1\" class=\"dataframe\">\n",
              "  <thead>\n",
              "    <tr style=\"text-align: right;\">\n",
              "      <th></th>\n",
              "      <th>V1</th>\n",
              "      <th>V2</th>\n",
              "      <th>V3</th>\n",
              "      <th>V4</th>\n",
              "      <th>V5</th>\n",
              "      <th>V6</th>\n",
              "      <th>V7</th>\n",
              "      <th>V8</th>\n",
              "      <th>V9</th>\n",
              "      <th>V10</th>\n",
              "      <th>V11</th>\n",
              "      <th>V12</th>\n",
              "      <th>V13</th>\n",
              "      <th>V14</th>\n",
              "      <th>V15</th>\n",
              "      <th>V16</th>\n",
              "      <th>V17</th>\n",
              "      <th>V18</th>\n",
              "      <th>V19</th>\n",
              "      <th>V20</th>\n",
              "      <th>V21</th>\n",
              "      <th>V22</th>\n",
              "      <th>V23</th>\n",
              "      <th>V24</th>\n",
              "      <th>V25</th>\n",
              "      <th>V26</th>\n",
              "      <th>V27</th>\n",
              "      <th>V28</th>\n",
              "      <th>Amount</th>\n",
              "      <th>Class</th>\n",
              "    </tr>\n",
              "  </thead>\n",
              "  <tbody>\n",
              "    <tr>\n",
              "      <th>0</th>\n",
              "      <td>-1.359807</td>\n",
              "      <td>-0.072781</td>\n",
              "      <td>2.536347</td>\n",
              "      <td>1.378155</td>\n",
              "      <td>-0.338321</td>\n",
              "      <td>0.462388</td>\n",
              "      <td>0.239599</td>\n",
              "      <td>0.098698</td>\n",
              "      <td>0.363787</td>\n",
              "      <td>0.090794</td>\n",
              "      <td>-0.551600</td>\n",
              "      <td>-0.617801</td>\n",
              "      <td>-0.991390</td>\n",
              "      <td>-0.311169</td>\n",
              "      <td>1.468177</td>\n",
              "      <td>-0.470401</td>\n",
              "      <td>0.207971</td>\n",
              "      <td>0.025791</td>\n",
              "      <td>0.403993</td>\n",
              "      <td>0.251412</td>\n",
              "      <td>-0.018307</td>\n",
              "      <td>0.277838</td>\n",
              "      <td>-0.110474</td>\n",
              "      <td>0.066928</td>\n",
              "      <td>0.128539</td>\n",
              "      <td>-0.189115</td>\n",
              "      <td>0.133558</td>\n",
              "      <td>-0.021053</td>\n",
              "      <td>149.62</td>\n",
              "      <td>0</td>\n",
              "    </tr>\n",
              "    <tr>\n",
              "      <th>1</th>\n",
              "      <td>1.191857</td>\n",
              "      <td>0.266151</td>\n",
              "      <td>0.166480</td>\n",
              "      <td>0.448154</td>\n",
              "      <td>0.060018</td>\n",
              "      <td>-0.082361</td>\n",
              "      <td>-0.078803</td>\n",
              "      <td>0.085102</td>\n",
              "      <td>-0.255425</td>\n",
              "      <td>-0.166974</td>\n",
              "      <td>1.612727</td>\n",
              "      <td>1.065235</td>\n",
              "      <td>0.489095</td>\n",
              "      <td>-0.143772</td>\n",
              "      <td>0.635558</td>\n",
              "      <td>0.463917</td>\n",
              "      <td>-0.114805</td>\n",
              "      <td>-0.183361</td>\n",
              "      <td>-0.145783</td>\n",
              "      <td>-0.069083</td>\n",
              "      <td>-0.225775</td>\n",
              "      <td>-0.638672</td>\n",
              "      <td>0.101288</td>\n",
              "      <td>-0.339846</td>\n",
              "      <td>0.167170</td>\n",
              "      <td>0.125895</td>\n",
              "      <td>-0.008983</td>\n",
              "      <td>0.014724</td>\n",
              "      <td>2.69</td>\n",
              "      <td>0</td>\n",
              "    </tr>\n",
              "    <tr>\n",
              "      <th>2</th>\n",
              "      <td>-1.358354</td>\n",
              "      <td>-1.340163</td>\n",
              "      <td>1.773209</td>\n",
              "      <td>0.379780</td>\n",
              "      <td>-0.503198</td>\n",
              "      <td>1.800499</td>\n",
              "      <td>0.791461</td>\n",
              "      <td>0.247676</td>\n",
              "      <td>-1.514654</td>\n",
              "      <td>0.207643</td>\n",
              "      <td>0.624501</td>\n",
              "      <td>0.066084</td>\n",
              "      <td>0.717293</td>\n",
              "      <td>-0.165946</td>\n",
              "      <td>2.345865</td>\n",
              "      <td>-2.890083</td>\n",
              "      <td>1.109969</td>\n",
              "      <td>-0.121359</td>\n",
              "      <td>-2.261857</td>\n",
              "      <td>0.524980</td>\n",
              "      <td>0.247998</td>\n",
              "      <td>0.771679</td>\n",
              "      <td>0.909412</td>\n",
              "      <td>-0.689281</td>\n",
              "      <td>-0.327642</td>\n",
              "      <td>-0.139097</td>\n",
              "      <td>-0.055353</td>\n",
              "      <td>-0.059752</td>\n",
              "      <td>378.66</td>\n",
              "      <td>0</td>\n",
              "    </tr>\n",
              "    <tr>\n",
              "      <th>3</th>\n",
              "      <td>-0.966272</td>\n",
              "      <td>-0.185226</td>\n",
              "      <td>1.792993</td>\n",
              "      <td>-0.863291</td>\n",
              "      <td>-0.010309</td>\n",
              "      <td>1.247203</td>\n",
              "      <td>0.237609</td>\n",
              "      <td>0.377436</td>\n",
              "      <td>-1.387024</td>\n",
              "      <td>-0.054952</td>\n",
              "      <td>-0.226487</td>\n",
              "      <td>0.178228</td>\n",
              "      <td>0.507757</td>\n",
              "      <td>-0.287924</td>\n",
              "      <td>-0.631418</td>\n",
              "      <td>-1.059647</td>\n",
              "      <td>-0.684093</td>\n",
              "      <td>1.965775</td>\n",
              "      <td>-1.232622</td>\n",
              "      <td>-0.208038</td>\n",
              "      <td>-0.108300</td>\n",
              "      <td>0.005274</td>\n",
              "      <td>-0.190321</td>\n",
              "      <td>-1.175575</td>\n",
              "      <td>0.647376</td>\n",
              "      <td>-0.221929</td>\n",
              "      <td>0.062723</td>\n",
              "      <td>0.061458</td>\n",
              "      <td>123.50</td>\n",
              "      <td>0</td>\n",
              "    </tr>\n",
              "    <tr>\n",
              "      <th>4</th>\n",
              "      <td>-1.158233</td>\n",
              "      <td>0.877737</td>\n",
              "      <td>1.548718</td>\n",
              "      <td>0.403034</td>\n",
              "      <td>-0.407193</td>\n",
              "      <td>0.095921</td>\n",
              "      <td>0.592941</td>\n",
              "      <td>-0.270533</td>\n",
              "      <td>0.817739</td>\n",
              "      <td>0.753074</td>\n",
              "      <td>-0.822843</td>\n",
              "      <td>0.538196</td>\n",
              "      <td>1.345852</td>\n",
              "      <td>-1.119670</td>\n",
              "      <td>0.175121</td>\n",
              "      <td>-0.451449</td>\n",
              "      <td>-0.237033</td>\n",
              "      <td>-0.038195</td>\n",
              "      <td>0.803487</td>\n",
              "      <td>0.408542</td>\n",
              "      <td>-0.009431</td>\n",
              "      <td>0.798278</td>\n",
              "      <td>-0.137458</td>\n",
              "      <td>0.141267</td>\n",
              "      <td>-0.206010</td>\n",
              "      <td>0.502292</td>\n",
              "      <td>0.219422</td>\n",
              "      <td>0.215153</td>\n",
              "      <td>69.99</td>\n",
              "      <td>0</td>\n",
              "    </tr>\n",
              "  </tbody>\n",
              "</table>\n",
              "</div>"
            ],
            "text/plain": [
              "         V1        V2        V3        V4  ...       V27       V28  Amount  Class\n",
              "0 -1.359807 -0.072781  2.536347  1.378155  ...  0.133558 -0.021053  149.62      0\n",
              "1  1.191857  0.266151  0.166480  0.448154  ... -0.008983  0.014724    2.69      0\n",
              "2 -1.358354 -1.340163  1.773209  0.379780  ... -0.055353 -0.059752  378.66      0\n",
              "3 -0.966272 -0.185226  1.792993 -0.863291  ...  0.062723  0.061458  123.50      0\n",
              "4 -1.158233  0.877737  1.548718  0.403034  ...  0.219422  0.215153   69.99      0\n",
              "\n",
              "[5 rows x 30 columns]"
            ]
          },
          "metadata": {
            "tags": []
          },
          "execution_count": 5
        }
      ]
    },
    {
      "cell_type": "markdown",
      "metadata": {
        "id": "pVxHzBHdUW1_"
      },
      "source": [
        "#Data Processing and Exploratory Data Analysis (EDA)#"
      ]
    },
    {
      "cell_type": "markdown",
      "metadata": {
        "id": "oEnXN3xLUhZv"
      },
      "source": [
        "**Case Count**"
      ]
    },
    {
      "cell_type": "code",
      "metadata": {
        "colab": {
          "base_uri": "https://localhost:8080/"
        },
        "id": "Ypt0N8hvUauH",
        "outputId": "84afafac-176d-412e-8861-b74ce75b1893"
      },
      "source": [
        "cases = len(data)\r\n",
        "nonfraud_count = len(data[data.Class == 0])\r\n",
        "fraud_count = len(data[data.Class == 1])\r\n",
        "fraud_percentage = round(fraud_count/nonfraud_count*100, 2)\r\n",
        "\r\n",
        "print(cl('CASE COUNT', attrs = ['bold']))\r\n",
        "print(cl('--------------------------------------------', attrs = ['bold']))\r\n",
        "print(cl('Total number of cases are:-> {}'.format(cases), attrs = ['bold']))\r\n",
        "print(cl('Number of Non-Fraud cases are:-> {}'.format(nonfraud_count), attrs = ['bold']))\r\n",
        "print(cl('Number of Fraud cases are:-> {}'.format(fraud_count), attrs = ['bold']))\r\n",
        "print(cl('Percentage of Fraud cases is:-> {}'.format(fraud_percentage), attrs = ['bold']))\r\n",
        "print(cl('--------------------------------------------', attrs = ['bold']))"
      ],
      "execution_count": null,
      "outputs": [
        {
          "output_type": "stream",
          "text": [
            "\u001b[1mCASE COUNT\u001b[0m\n",
            "\u001b[1m--------------------------------------------\u001b[0m\n",
            "\u001b[1mTotal number of cases are:-> 284807\u001b[0m\n",
            "\u001b[1mNumber of Non-Fraud cases are:-> 284315\u001b[0m\n",
            "\u001b[1mNumber of Fraud cases are:-> 492\u001b[0m\n",
            "\u001b[1mPercentage of Fraud cases is:-> 0.17\u001b[0m\n",
            "\u001b[1m--------------------------------------------\u001b[0m\n"
          ],
          "name": "stdout"
        }
      ]
    },
    {
      "cell_type": "markdown",
      "metadata": {
        "id": "PpUHY-drrZni"
      },
      "source": [
        "**Checking null or nan values**"
      ]
    },
    {
      "cell_type": "code",
      "metadata": {
        "colab": {
          "base_uri": "https://localhost:8080/"
        },
        "id": "xyix1-o_qVtH",
        "outputId": "e0506ea1-c7d0-4ffc-ece7-5107684c0064"
      },
      "source": [
        "print(data.info())"
      ],
      "execution_count": null,
      "outputs": [
        {
          "output_type": "stream",
          "text": [
            "<class 'pandas.core.frame.DataFrame'>\n",
            "RangeIndex: 284807 entries, 0 to 284806\n",
            "Data columns (total 30 columns):\n",
            " #   Column  Non-Null Count   Dtype  \n",
            "---  ------  --------------   -----  \n",
            " 0   V1      284807 non-null  float64\n",
            " 1   V2      284807 non-null  float64\n",
            " 2   V3      284807 non-null  float64\n",
            " 3   V4      284807 non-null  float64\n",
            " 4   V5      284807 non-null  float64\n",
            " 5   V6      284807 non-null  float64\n",
            " 6   V7      284807 non-null  float64\n",
            " 7   V8      284807 non-null  float64\n",
            " 8   V9      284807 non-null  float64\n",
            " 9   V10     284807 non-null  float64\n",
            " 10  V11     284807 non-null  float64\n",
            " 11  V12     284807 non-null  float64\n",
            " 12  V13     284807 non-null  float64\n",
            " 13  V14     284807 non-null  float64\n",
            " 14  V15     284807 non-null  float64\n",
            " 15  V16     284807 non-null  float64\n",
            " 16  V17     284807 non-null  float64\n",
            " 17  V18     284807 non-null  float64\n",
            " 18  V19     284807 non-null  float64\n",
            " 19  V20     284807 non-null  float64\n",
            " 20  V21     284807 non-null  float64\n",
            " 21  V22     284807 non-null  float64\n",
            " 22  V23     284807 non-null  float64\n",
            " 23  V24     284807 non-null  float64\n",
            " 24  V25     284807 non-null  float64\n",
            " 25  V26     284807 non-null  float64\n",
            " 26  V27     284807 non-null  float64\n",
            " 27  V28     284807 non-null  float64\n",
            " 28  Amount  284807 non-null  float64\n",
            " 29  Class   284807 non-null  int64  \n",
            "dtypes: float64(29), int64(1)\n",
            "memory usage: 65.2 MB\n",
            "None\n"
          ],
          "name": "stdout"
        }
      ]
    },
    {
      "cell_type": "markdown",
      "metadata": {
        "id": "qsmfsCyNUeq7"
      },
      "source": [
        "**CASE AMOUNT STATISTICS**"
      ]
    },
    {
      "cell_type": "code",
      "metadata": {
        "colab": {
          "base_uri": "https://localhost:8080/"
        },
        "id": "vwSLGKvBUuSv",
        "outputId": "fee785ca-6427-46d1-a9bc-fe6f0cfa2b31"
      },
      "source": [
        "nonfraud_cases = data[data.Class == 0]\r\n",
        "fraud_cases = data[data.Class == 1]\r\n",
        "\r\n",
        "print(cl('CASE AMOUNT STATISTICS', attrs = ['bold']))\r\n",
        "print(cl('--------------------------------------------', attrs = ['bold']))\r\n",
        "print(cl('NON-FRAUD CASE AMOUNT STATS', attrs = ['bold']))\r\n",
        "print(nonfraud_cases.Amount.describe())\r\n",
        "print(cl('--------------------------------------------', attrs = ['bold']))\r\n",
        "print(cl('FRAUD CASE AMOUNT STATS', attrs = ['bold']))\r\n",
        "print(fraud_cases.Amount.describe())\r\n",
        "print(cl('--------------------------------------------', attrs = ['bold']))"
      ],
      "execution_count": null,
      "outputs": [
        {
          "output_type": "stream",
          "text": [
            "\u001b[1mCASE AMOUNT STATISTICS\u001b[0m\n",
            "\u001b[1m--------------------------------------------\u001b[0m\n",
            "\u001b[1mNON-FRAUD CASE AMOUNT STATS\u001b[0m\n",
            "count    284315.000000\n",
            "mean         88.291022\n",
            "std         250.105092\n",
            "min           0.000000\n",
            "25%           5.650000\n",
            "50%          22.000000\n",
            "75%          77.050000\n",
            "max       25691.160000\n",
            "Name: Amount, dtype: float64\n",
            "\u001b[1m--------------------------------------------\u001b[0m\n",
            "\u001b[1mFRAUD CASE AMOUNT STATS\u001b[0m\n",
            "count     492.000000\n",
            "mean      122.211321\n",
            "std       256.683288\n",
            "min         0.000000\n",
            "25%         1.000000\n",
            "50%         9.250000\n",
            "75%       105.890000\n",
            "max      2125.870000\n",
            "Name: Amount, dtype: float64\n",
            "\u001b[1m--------------------------------------------\u001b[0m\n"
          ],
          "name": "stdout"
        }
      ]
    },
    {
      "cell_type": "markdown",
      "metadata": {
        "id": "4YT9fMbzWS02"
      },
      "source": [
        "**Normalizing using the ‘StandardScaler’ method**"
      ]
    },
    {
      "cell_type": "code",
      "metadata": {
        "colab": {
          "base_uri": "https://localhost:8080/"
        },
        "id": "dGHIy4QXWbYC",
        "outputId": "a6e80918-34f2-48ed-a3c0-38a7ed55ec0c"
      },
      "source": [
        "sc = StandardScaler()\r\n",
        "amount = data['Amount'].values\r\n",
        "\r\n",
        "data['Amount'] = sc.fit_transform(amount.reshape(-1, 1))\r\n",
        "\r\n",
        "print(cl(data['Amount'].head(5), attrs = ['bold']))"
      ],
      "execution_count": null,
      "outputs": [
        {
          "output_type": "stream",
          "text": [
            "\u001b[1m0    0.244964\n",
            "1   -0.342475\n",
            "2    1.160686\n",
            "3    0.140534\n",
            "4   -0.073403\n",
            "Name: Amount, dtype: float64\u001b[0m\n"
          ],
          "name": "stdout"
        }
      ]
    },
    {
      "cell_type": "markdown",
      "metadata": {
        "id": "jf5X9BGFrPPE"
      },
      "source": [
        "**Data Cleansing**"
      ]
    },
    {
      "cell_type": "code",
      "metadata": {
        "colab": {
          "base_uri": "https://localhost:8080/",
          "height": 607
        },
        "id": "SRc40JmArW9d",
        "outputId": "07299506-63b3-432e-94c6-b6dc34027f58"
      },
      "source": [
        "# Only use the 'Amount' and 'V1', ..., 'V28' features\r\n",
        "features = ['V%d' % number for number in range(1, 10)] + ['Amount']\r\n",
        "#In above, I used '10' to limit the subplots but actually we have to use '29'.\r\n",
        "\r\n",
        "# The target variable which we would like to predict, is the 'Class' variable\r\n",
        "target = 'Class'\r\n",
        "\r\n",
        "# Now create an X variable (containing the features) and an y variable (containing only the target variable)\r\n",
        "X = data[features]\r\n",
        "y = data[target]\r\n",
        "\r\n",
        "# Plot histograms of each parameter \r\n",
        "X.hist(figsize = (10, 10))\r\n",
        "plt.show()"
      ],
      "execution_count": null,
      "outputs": [
        {
          "output_type": "display_data",
          "data": {
            "image/png": "[encoded data removed]",
            "text/plain": [
              "<Figure size 720x720 with 12 Axes>"
            ]
          },
          "metadata": {
            "tags": [],
            "needs_background": "light"
          }
        }
      ]
    },
    {
      "cell_type": "markdown",
      "metadata": {
        "id": "YZvNPxNtWfUx"
      },
      "source": [
        "#Feature Selection & Data Split#"
      ]
    },
    {
      "cell_type": "code",
      "metadata": {
        "colab": {
          "base_uri": "https://localhost:8080/"
        },
        "id": "0JGR-UxpWlvY",
        "outputId": "bd8f9333-eee2-4e37-e9a7-df939273298e"
      },
      "source": [
        "# DATA SPLIT\r\n",
        "\r\n",
        "X = data.drop('Class', axis = 1).values\r\n",
        "y = data['Class'].values\r\n",
        "\r\n",
        "X_train, X_test, y_train, y_test = train_test_split(X, y, test_size = 0.2, random_state = 0)\r\n",
        "\r\n",
        "print(cl('X_train samples : ', attrs = ['bold']), X_train[:1])\r\n",
        "print(cl('X_test samples : ', attrs = ['bold']), X_test[0:1])\r\n",
        "print(cl('y_train samples : ', attrs = ['bold']), y_train[0:20])\r\n",
        "print(cl('y_test samples : ', attrs = ['bold']), y_test[0:20])"
      ],
      "execution_count": null,
      "outputs": [
        {
          "output_type": "stream",
          "text": [
            "\u001b[1mX_train samples : \u001b[0m [[-1.11504743  1.03558276  0.80071244 -1.06039825  0.03262117  0.85342216\n",
            "  -0.61424348 -3.23116112  1.53994798 -0.81690879 -1.30559201  0.1081772\n",
            "  -0.85960958 -0.07193421  0.90665563 -1.72092961  0.79785322 -0.0067594\n",
            "   1.95677806 -0.64489556  3.02038533 -0.53961798  0.03315649 -0.77494577\n",
            "   0.10586781 -0.43085348  0.22973694 -0.0705913  -0.30145418]]\n",
            "\u001b[1mX_test samples : \u001b[0m [[-0.32333357  1.05745525 -0.04834115 -0.60720431  1.25982115 -0.09176072\n",
            "   1.1591015  -0.12433461 -0.17463954 -1.64440065 -1.11886302  0.20264731\n",
            "   1.14596495 -1.80235956 -0.24717793 -0.06094535  0.84660574  0.37945439\n",
            "   0.84726224  0.18640942 -0.20709827 -0.43389027 -0.26161328 -0.04665061\n",
            "   0.2115123   0.00829721  0.10849443  0.16113917 -0.19330595]]\n",
            "\u001b[1my_train samples : \u001b[0m [0 0 0 0 0 0 0 0 0 0 0 0 0 0 0 0 0 0 0 0]\n",
            "\u001b[1my_test samples : \u001b[0m [0 0 0 0 0 0 0 0 0 0 0 0 0 0 0 0 0 0 0 0]\n"
          ],
          "name": "stdout"
        }
      ]
    },
    {
      "cell_type": "markdown",
      "metadata": {
        "id": "sfU6vR69WqvI"
      },
      "source": [
        "#Modeling#"
      ]
    },
    {
      "cell_type": "code",
      "metadata": {
        "id": "DJT1H4D3Wvuf"
      },
      "source": [
        "# MODELING\r\n",
        "# 1. Decision Tree\r\n",
        "tree_model = DecisionTreeClassifier(max_depth = 10, criterion = 'entropy')\r\n",
        "tree_model.fit(X_train, y_train)\r\n",
        "tree_yhat = tree_model.predict(X_test)\r\n",
        "\r\n",
        "# 2. Logistic Regression\r\n",
        "lr = LogisticRegression()\r\n",
        "lr.fit(X_train, y_train)\r\n",
        "lr_yhat = lr.predict(X_test)\r\n",
        "\r\n",
        "# 3. Random Forest Tree\r\n",
        "rf = RandomForestClassifier(max_depth = 10)\r\n",
        "rf.fit(X_train, y_train)\r\n",
        "rf_yhat = rf.predict(X_test)\r\n",
        "\r\n",
        "# 4. XGBoost\r\n",
        "xgb = XGBClassifier(max_depth = 10)\r\n",
        "xgb.fit(X_train, y_train)\r\n",
        "xgb_yhat = xgb.predict(X_test)"
      ],
      "execution_count": null,
      "outputs": []
    },
    {
      "cell_type": "markdown",
      "metadata": {
        "id": "8BL6CfOrXKRm"
      },
      "source": [
        "#Evaluation#"
      ]
    },
    {
      "cell_type": "markdown",
      "metadata": {
        "id": "v0bv3WAcXTSg"
      },
      "source": [
        "**1. Accuracy score**"
      ]
    },
    {
      "cell_type": "code",
      "metadata": {
        "id": "Ws0JYuFEXOqy",
        "colab": {
          "base_uri": "https://localhost:8080/"
        },
        "outputId": "557f2878-26e7-4c89-ef1f-46dd261c0326"
      },
      "source": [
        "# 1. Accuracy score\r\n",
        "\r\n",
        "print(cl('ACCURACY SCORE', attrs = ['bold']))\r\n",
        "print(cl('------------------------------------------------------------------------', attrs = ['bold']))\r\n",
        "print(cl('Accuracy score of the Decision Tree model is {}'.format(accuracy_score(y_test, tree_yhat)), attrs = ['bold']))\r\n",
        "print(cl('------------------------------------------------------------------------', attrs = ['bold']))\r\n",
        "print(cl('Accuracy score of the Logistic Regression model is {}'.format(accuracy_score(y_test, lr_yhat)), attrs = ['bold'], color = 'red'))\r\n",
        "print(cl('------------------------------------------------------------------------', attrs = ['bold']))\r\n",
        "print(cl('Accuracy score of the Random Forest Tree model is {}'.format(accuracy_score(y_test, rf_yhat)), attrs = ['bold'], color = 'blue'))\r\n",
        "print(cl('------------------------------------------------------------------------', attrs = ['bold']))\r\n",
        "print(cl('Accuracy score of the XGBoost model is {}'.format(accuracy_score(y_test, xgb_yhat)), attrs = ['bold'], color = 'green'))\r\n",
        "print(cl('------------------------------------------------------------------------', attrs = ['bold']))"
      ],
      "execution_count": null,
      "outputs": [
        {
          "output_type": "stream",
          "text": [
            "\u001b[1mACCURACY SCORE\u001b[0m\n",
            "\u001b[1m------------------------------------------------------------------------\u001b[0m\n",
            "\u001b[1mAccuracy score of the Decision Tree model is 0.9993504441557529\u001b[0m\n",
            "\u001b[1m------------------------------------------------------------------------\u001b[0m\n",
            "\u001b[1m\u001b[31mAccuracy score of the Logistic Regression model is 0.9991924440855307\u001b[0m\n",
            "\u001b[1m------------------------------------------------------------------------\u001b[0m\n",
            "\u001b[1m\u001b[34mAccuracy score of the Random Forest Tree model is 0.9994908886626171\u001b[0m\n",
            "\u001b[1m------------------------------------------------------------------------\u001b[0m\n",
            "\u001b[1m\u001b[32mAccuracy score of the XGBoost model is 0.9995786664794073\u001b[0m\n",
            "\u001b[1m------------------------------------------------------------------------\u001b[0m\n"
          ],
          "name": "stdout"
        }
      ]
    },
    {
      "cell_type": "markdown",
      "metadata": {
        "id": "iIbXTqakXbp5"
      },
      "source": [
        "**2. F1 Score**"
      ]
    },
    {
      "cell_type": "code",
      "metadata": {
        "id": "OXFREfnZXgcn",
        "colab": {
          "base_uri": "https://localhost:8080/"
        },
        "outputId": "8922c7d4-f1d3-49bb-e61d-2d41f6089e6d"
      },
      "source": [
        "# 2. F1 score\r\n",
        "\r\n",
        "print(cl('F1 SCORE', attrs = ['bold']))\r\n",
        "print(cl('------------------------------------------------------------------------', attrs = ['bold']))\r\n",
        "print(cl('F1 score of the Decision Tree model is {}'.format(f1_score(y_test, tree_yhat)), attrs = ['bold']))\r\n",
        "print(cl('------------------------------------------------------------------------', attrs = ['bold']))\r\n",
        "print(cl('F1 score of the Logistic Regression model is {}'.format(f1_score(y_test, lr_yhat)), attrs = ['bold'], color = 'red'))\r\n",
        "print(cl('------------------------------------------------------------------------', attrs = ['bold']))\r\n",
        "print(cl('F1 score of the Random Forest Tree model is {}'.format(f1_score(y_test, rf_yhat)), attrs = ['bold'], color = 'blue'))\r\n",
        "print(cl('------------------------------------------------------------------------', attrs = ['bold']))\r\n",
        "print(cl('F1 score of the XGBoost model is {}'.format(f1_score(y_test, xgb_yhat)), attrs = ['bold'], color = 'green'))\r\n",
        "print(cl('------------------------------------------------------------------------', attrs = ['bold']))"
      ],
      "execution_count": null,
      "outputs": [
        {
          "output_type": "stream",
          "text": [
            "\u001b[1mF1 SCORE\u001b[0m\n",
            "\u001b[1m------------------------------------------------------------------------\u001b[0m\n",
            "\u001b[1mF1 score of the Decision Tree model is 0.8121827411167514\u001b[0m\n",
            "\u001b[1m------------------------------------------------------------------------\u001b[0m\n",
            "\u001b[1m\u001b[31mF1 score of the Logistic Regression model is 0.7356321839080459\u001b[0m\n",
            "\u001b[1m------------------------------------------------------------------------\u001b[0m\n",
            "\u001b[1m\u001b[34mF1 score of the Random Forest Tree model is 0.8432432432432432\u001b[0m\n",
            "\u001b[1m------------------------------------------------------------------------\u001b[0m\n",
            "\u001b[1m\u001b[32mF1 score of the XGBoost model is 0.8749999999999999\u001b[0m\n",
            "\u001b[1m------------------------------------------------------------------------\u001b[0m\n"
          ],
          "name": "stdout"
        }
      ]
    },
    {
      "cell_type": "markdown",
      "metadata": {
        "id": "fq2zY0-AXifX"
      },
      "source": [
        "**3. Confusion Matrix**"
      ]
    },
    {
      "cell_type": "code",
      "metadata": {
        "colab": {
          "base_uri": "https://localhost:8080/"
        },
        "id": "_6pBREjsr8Cl",
        "outputId": "89d478a3-f7c6-486d-899d-2c9e77f13fbe"
      },
      "source": [
        "## Model with randomforest\r\n",
        "\r\n",
        "from sklearn.ensemble import RandomForestClassifier\r\n",
        "from sklearn.metrics import confusion_matrix\r\n",
        "from sklearn.metrics import classification_report\r\n",
        "\r\n",
        "def random_forest_classifier(X_train, y_train, X_test, y_test):\r\n",
        "     # initialize object for DecisionTreeClassifier class\r\n",
        "     rf_classifier = RandomForestClassifier(n_estimators=50)\r\n",
        "     # train model by using fit method\r\n",
        "     print(\"Model testing starts........\")\r\n",
        "     rf_classifier.fit(X_train, y_train.ravel())\r\n",
        "     acc_score = rf_classifier.score(X_test, y_test)\r\n",
        "     print(f'Accuracy of Random Forest model on test dataset :-> {acc_score}')\r\n",
        "     # predict result using test dataset\r\n",
        "     y_pred = rf_classifier.predict(X_test)\r\n",
        "     # confusion matrix\r\n",
        "     print(f\"Confusion Matrix :- \\n {confusion_matrix(y_test, y_pred)}\")\r\n",
        "     # classification report for f1-score\r\n",
        "     print(f\"Classification Report :- \\n {classification_report(y_test, y_pred)}\")\r\n",
        "\r\n",
        "\r\n",
        "# calling random_forest_classifier\r\n",
        "random_forest_classifier(X_train, y_train, X_test, y_test)"
      ],
      "execution_count": null,
      "outputs": [
        {
          "output_type": "stream",
          "text": [
            "Model testing starts........\n",
            "Accuracy of Random Forest model on test dataset :-> 0.9994908886626171\n",
            "Confusion Matrix :- \n",
            " [[56854     7]\n",
            " [   22    79]]\n",
            "Classification Report :- \n",
            "               precision    recall  f1-score   support\n",
            "\n",
            "           0       1.00      1.00      1.00     56861\n",
            "           1       0.92      0.78      0.84       101\n",
            "\n",
            "    accuracy                           1.00     56962\n",
            "   macro avg       0.96      0.89      0.92     56962\n",
            "weighted avg       1.00      1.00      1.00     56962\n",
            "\n"
          ],
          "name": "stdout"
        }
      ]
    },
    {
      "cell_type": "code",
      "metadata": {
        "colab": {
          "base_uri": "https://localhost:8080/"
        },
        "id": "boHU5i2eshdI",
        "outputId": "23618dcf-72a5-47d7-c170-e88f1a6e1402"
      },
      "source": [
        "## Model with xgboost\r\n",
        "\r\n",
        "from xgboost import XGBClassifier\r\n",
        "from sklearn.metrics import confusion_matrix\r\n",
        "from sklearn.metrics import classification_report\r\n",
        "\r\n",
        "def xg_boost_classifier(X_train, y_train, X_test, y_test):\r\n",
        "     # initialize object for DecisionTreeClassifier class\r\n",
        "     xgb_classifier = XGBClassifier(n_estimators=50)\r\n",
        "     # train model by using fit method\r\n",
        "     print(\"Model testing starts........\")\r\n",
        "     xgb_classifier.fit(X_train, y_train.ravel())\r\n",
        "     acc_score = xgb_classifier.score(X_test, y_test)\r\n",
        "     print(f'Accuracy of XGBoost model on test dataset :-> {acc_score}')\r\n",
        "     # predict result using test dataset\r\n",
        "     y_pred = xgb_classifier.predict(X_test)\r\n",
        "     # confusion matrix\r\n",
        "     print(f\"Confusion Matrix :- \\n {confusion_matrix(y_test, y_pred)}\")\r\n",
        "     # classification report for f1-score\r\n",
        "     print(f\"Classification Report :- \\n {classification_report(y_test, y_pred)}\")\r\n",
        "\r\n",
        "\r\n",
        "# calling random_forest_classifier\r\n",
        "xg_boost_classifier(X_train, y_train, X_test, y_test)"
      ],
      "execution_count": null,
      "outputs": [
        {
          "output_type": "stream",
          "text": [
            "Model testing starts........\n",
            "Accuracy of XGBoost model on test dataset :-> 0.9994382219725431\n",
            "Confusion Matrix :- \n",
            " [[56853     8]\n",
            " [   24    77]]\n",
            "Classification Report :- \n",
            "               precision    recall  f1-score   support\n",
            "\n",
            "           0       1.00      1.00      1.00     56861\n",
            "           1       0.91      0.76      0.83       101\n",
            "\n",
            "    accuracy                           1.00     56962\n",
            "   macro avg       0.95      0.88      0.91     56962\n",
            "weighted avg       1.00      1.00      1.00     56962\n",
            "\n"
          ],
          "name": "stdout"
        }
      ]
    },
    {
      "cell_type": "markdown",
      "metadata": {
        "id": "ohVr7O2XyXjc"
      },
      "source": [
        "**4. Confution Matrix on Plot Function**"
      ]
    },
    {
      "cell_type": "code",
      "metadata": {
        "colab": {
          "base_uri": "https://localhost:8080/",
          "height": 1000
        },
        "id": "cadjh6SSXkD4",
        "outputId": "d51e860b-8fef-4f5e-9274-e658f32b1504"
      },
      "source": [
        "# defining the plot function\r\n",
        "\r\n",
        "def plot_confusion_matrix(cm, classes, title, normalize = False, cmap = plt.cm.Blues):\r\n",
        "    title = 'Confusion Matrix of {}'.format(title)\r\n",
        "    if normalize:\r\n",
        "        cm = cm.astype(float) / cm.sum(axis=1)[:, np.newaxis]\r\n",
        "\r\n",
        "    plt.imshow(cm, interpolation = 'nearest', cmap = cmap)\r\n",
        "    plt.title(title)\r\n",
        "    plt.colorbar()\r\n",
        "    tick_marks = np.arange(len(classes))\r\n",
        "    plt.xticks(tick_marks, classes, rotation = 45)\r\n",
        "    plt.yticks(tick_marks, classes)\r\n",
        "\r\n",
        "    fmt = '.2f' if normalize else 'd'\r\n",
        "    thresh = cm.max() / 2.\r\n",
        "    for i, j in itertools.product(range(cm.shape[0]), range(cm.shape[1])):\r\n",
        "        plt.text(j, i, format(cm[i, j], fmt),\r\n",
        "                 horizontalalignment = 'center',\r\n",
        "                 color = 'white' if cm[i, j] > thresh else 'black')\r\n",
        "\r\n",
        "    plt.tight_layout()\r\n",
        "    plt.ylabel('True label')\r\n",
        "    plt.xlabel('Predicted label')\r\n",
        "\r\n",
        "# Compute confusion matrix for the models\r\n",
        "\r\n",
        "tree_matrix = confusion_matrix(y_test, tree_yhat, labels = [0, 1]) # Decision Tree\r\n",
        "lr_matrix = confusion_matrix(y_test, lr_yhat, labels = [0, 1]) # Logistic Regression\r\n",
        "rf_matrix = confusion_matrix(y_test, rf_yhat, labels = [0, 1]) # Random Forest Tree\r\n",
        "xgb_matrix = confusion_matrix(y_test, xgb_yhat, labels = [0, 1]) # XGBoost\r\n",
        "\r\n",
        "# Plot the confusion matrix\r\n",
        "\r\n",
        "plt.rcParams['figure.figsize'] = (6, 6)\r\n",
        "\r\n",
        "# 1. Decision tree\r\n",
        "\r\n",
        "tree_cm_plot = plot_confusion_matrix(tree_matrix, \r\n",
        "                                classes = ['Non-Default(0)','Default(1)'], \r\n",
        "                                normalize = False, title = 'Decision Tree')\r\n",
        "plt.savefig('tree_cm_plot.png')\r\n",
        "plt.show()\r\n",
        "\r\n",
        "# 2. Logistic regression\r\n",
        "\r\n",
        "lr_cm_plot = plot_confusion_matrix(lr_matrix, \r\n",
        "                                classes = ['Non-Default(0)','Default(1)'], \r\n",
        "                                normalize = False, title = 'Logistic Regression')\r\n",
        "plt.savefig('lr_cm_plot.png')\r\n",
        "plt.show()\r\n",
        "\r\n",
        "# 3. Random forest tree\r\n",
        "\r\n",
        "rf_cm_plot = plot_confusion_matrix(rf_matrix, \r\n",
        "                                classes = ['Non-Default(0)','Default(1)'], \r\n",
        "                                normalize = False, title = 'Random Forest Tree')\r\n",
        "plt.savefig('rf_cm_plot.png')\r\n",
        "plt.show()\r\n",
        "\r\n",
        "# 4. XGBoost\r\n",
        "\r\n",
        "xgb_cm_plot = plot_confusion_matrix(xgb_matrix, \r\n",
        "                                classes = ['Non-Default(0)','Default(1)'], \r\n",
        "                                normalize = False, title = 'XGBoost')\r\n",
        "plt.savefig('xgb_cm_plot.png')\r\n",
        "plt.show()"
      ],
      "execution_count": null,
      "outputs": [
        {
          "output_type": "display_data",
          "data": {
            "image/png": "[encoded data removed]",
            "text/plain": [
              "<Figure size 432x432 with 2 Axes>"
            ]
          },
          "metadata": {
            "tags": [],
            "needs_background": "light"
          }
        },
        {
          "output_type": "display_data",
          "data": {
            "image/png": "[encoded data removed]",
            "text/plain": [
              "<Figure size 432x432 with 2 Axes>"
            ]
          },
          "metadata": {
            "tags": [],
            "needs_background": "light"
          }
        },
        {
          "output_type": "display_data",
          "data": {
            "image/png": "[encoded data removed]",
            "text/plain": [
              "<Figure size 432x432 with 2 Axes>"
            ]
          },
          "metadata": {
            "tags": [],
            "needs_background": "light"
          }
        },
        {
          "output_type": "display_data",
          "data": {
            "image/png": "[encoded data removed]",
            "text/plain": [
              "<Figure size 432x432 with 2 Axes>"
            ]
          },
          "metadata": {
            "tags": [],
            "needs_background": "light"
          }
        }
      ]
    },
    {
      "cell_type": "markdown",
      "metadata": {
        "id": "i3OUTHDkem7c"
      },
      "source": [
        "**5. Plotting the Correlation Matrix**"
      ]
    },
    {
      "cell_type": "code",
      "metadata": {
        "colab": {
          "base_uri": "https://localhost:8080/",
          "height": 566
        },
        "id": "qdxTN0ugeVWN",
        "outputId": "04954f52-539f-433b-9249-3489c25a615c"
      },
      "source": [
        "# Correlation matrix \r\n",
        "corrmat = data.corr() \r\n",
        "fig = plt.figure(figsize = (12, 9)) \r\n",
        "sns.heatmap(corrmat, vmax = .9, square = True) \r\n",
        "plt.show() "
      ],
      "execution_count": null,
      "outputs": [
        {
          "output_type": "display_data",
          "data": {
            "image/png": "[encoded data removed]",
            "text/plain": [
              "<Figure size 864x648 with 2 Axes>"
            ]
          },
          "metadata": {
            "tags": [],
            "needs_background": "light"
          }
        }
      ]
    }
  ]
}